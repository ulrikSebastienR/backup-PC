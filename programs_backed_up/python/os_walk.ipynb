{
 "metadata": {
  "language_info": {
   "codemirror_mode": {
    "name": "ipython",
    "version": 3
   },
   "file_extension": ".py",
   "mimetype": "text/x-python",
   "name": "python",
   "nbconvert_exporter": "python",
   "pygments_lexer": "ipython3",
   "version": "3.8.8"
  },
  "orig_nbformat": 4,
  "kernelspec": {
   "name": "python3",
   "display_name": "Python 3.8.8 64-bit ('nefaisrein': conda)"
  },
  "interpreter": {
   "hash": "30cbd3e965238aee442cd134ba2a4340f1da52c92e9f694c89f6919b62caf41e"
  }
 },
 "nbformat": 4,
 "nbformat_minor": 2,
 "cells": [
  {
   "cell_type": "code",
   "execution_count": 1,
   "metadata": {},
   "outputs": [
    {
     "output_type": "execute_result",
     "data": {
      "text/plain": [
       "'/home/normal/Documents/code/git-pc/programs_backed_up'"
      ]
     },
     "metadata": {},
     "execution_count": 1
    }
   ],
   "source": [
    "import os\n",
    "os.getcwd()"
   ]
  },
  {
   "cell_type": "code",
   "execution_count": 5,
   "metadata": {},
   "outputs": [
    {
     "output_type": "stream",
     "name": "stdout",
     "text": [
      "/home/normal/Documents/code/git-pc/programs_backed_up/api requests\n['jsonAPIanlaysisResultSorting.py', 'github.py', 'temp_api.py']\n/home/normal/Documents/code/git-pc/programs_backed_up/api requests/jsonAPIanlaysisResultSorting.py\n/home/normal/Documents/code/git-pc/programs_backed_up/api requests/github.py\n/home/normal/Documents/code/git-pc/programs_backed_up/api requests/temp_api.py\n/home/normal/Documents/code/git-pc/programs_backed_up/python\n['os.walk.py', 'os_walk.ipynb', 'sort.py']\n/home/normal/Documents/code/git-pc/programs_backed_up/python/os.walk.py\n/home/normal/Documents/code/git-pc/programs_backed_up/python/os_walk.ipynb\n/home/normal/Documents/code/git-pc/programs_backed_up/python/sort.py\n/home/normal/Documents/code/git-pc/programs_backed_up/problems\n[]\n/home/normal/Documents/code/git-pc/programs_backed_up/ml\n[]\n"
     ]
    }
   ],
   "source": [
    "DIRNAME = '/home/normal/Documents/code/git-pc/programs_backed_up'\n",
    "CATEGORIES = ['api requests','python','problems', 'ml']\n",
    "\n",
    "for category in CATEGORIES:\n",
    "    pat = os.path.join(DIRNAME, category)\n",
    "    print(pat)\n",
    "    print(os.listdir(pat))\n",
    "    for file in os.listdir(pat):\n",
    "        print(os.path.join(pat, file))"
   ]
  },
  {
   "cell_type": "code",
   "execution_count": null,
   "metadata": {},
   "outputs": [],
   "source": []
  }
 ]
}